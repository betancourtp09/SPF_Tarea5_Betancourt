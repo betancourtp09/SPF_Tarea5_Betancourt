{
 "cells": [
  {
   "cell_type": "markdown",
   "id": "0b9455cf",
   "metadata": {},
   "source": [
    "<img style=\"float: left; margin: 30px 15px 15px 15px;\" src=\"https://pngimage.net/wp-content/uploads/2018/06/logo-iteso-png-5.png\" width=\"300\" height=\"500\" /> \n",
    "    \n",
    "    \n",
    "### <font color='navy'> Simulación de procesos financieros. \n",
    "\n",
    "**Nombres:** Ragnar Betancourt\n",
    "    \n",
    "**Fecha:** 12 de octubre del 2021.\n",
    "\n",
    "**Expediente** : if71747.\n",
    "**Profesor:** Oscar David Jaramillo Zuluaga.\n",
    "    \n",
    "# Tarea 5 \n",
    "    https://github.com/betancourtp09/SPF_Tarea5_Betancourt"
   ]
  },
  {
   "cell_type": "markdown",
   "id": "49c596f8",
   "metadata": {},
   "source": [
    "> Para las siguiente dos funciones, genere muestres aleatorias que distribuyan según la función dada usando el método de la transformada inversa y grafique el histograma de 1000 muestras generadas con el método de la transformada inversa y compárela con el función $f(x)$ **(recuerde que $f(x)$ es la distribución de probabilidad y $F(x)$ es la distribución de probabilidad acumulada)** [ver este enlace para más información](https://es.wikipedia.org/wiki/Funci%C3%B3n_de_distribuci%C3%B3n). Este procedimiento se realiza con el fín de validar que el procedimiento y los resultados son correctos.\n",
    "    \n",
    "> 1. Generación variable aleatoria continua\n",
    ">El tiempo en el cual un movimiento browniano se mantiene sobre su punto máximo en el intervalo [0,1] tiene una distribución\n",
    ">$$F(x)=\\frac{2}{\\pi}\\sin^{-1}(\\sqrt x),\\quad 0\\leq x\\leq 1$$ </font>"
   ]
  },
  {
   "cell_type": "markdown",
   "id": "843acd2a",
   "metadata": {},
   "source": [
    "> 2. Generación variable aleatoria Discreta\n",
    "> La distribución binomial modela el número de éxitos de n ensayos independientes donde hay una probabilidad p de éxito en cada ensayo.\n",
    "> Generar una variable aletoria binomial con parámetros $n=10$ y $p=0.7$. Recordar que $$X\\sim binomial(n,p) \\longrightarrow p_i=P(X=i)=\\frac{n!}{i!(n-i)!}p^i(1-p)^{n-i},\\quad i=0,1,\\cdots,n$$\n",
    "> Por propiedades de la operación factorial la anterior $p_i$ se puede escribir como:\n",
    "> $$p_{i+1}=\\frac{n-i}{i+1}\\frac{p}{1-p} p_i $$\n",
    "\n",
    "> **Nota:** Por notación recuerde que para el caso continuo $f(x)$ es la distribución de probabilidad (PDF), mientras $F(x)$ corresponde a la distribución de probabilidad acumulada (CDF). Para el caso discreto, $P(X=i)$ corresponde a su distribución de probabilidad (PMF) y $ F_{X}(x)=\\operatorname {P} (X\\leq x)=\\sum _{x_{i}\\leq x}\\operatorname {P} (X=x_{i})=\\sum _{x_{i}\\leq x}p(x_{i})$, corresponde a su distribución de probabilidad acumulada (CDF)."
   ]
  },
  {
   "cell_type": "code",
   "execution_count": 3,
   "id": "f04e57ad",
   "metadata": {},
   "outputs": [],
   "source": [
    "#respuesta1 \n",
    "from scipy import optimize\n",
    "from scipy.stats import beta\n",
    "import matplotlib.pyplot as plt\n",
    "import numpy as np\n",
    "import pandas as pd"
   ]
  },
  {
   "cell_type": "code",
   "execution_count": 2,
   "id": "6817eabc",
   "metadata": {},
   "outputs": [
    {
     "data": {
      "image/png": "[encoded data removed]",
      "text/plain": [
       "<Figure size 432x360 with 1 Axes>"
      ]
     },
     "metadata": {
      "needs_background": "light"
     },
     "output_type": "display_data"
    }
   ],
   "source": [
    "m= np.random.rand(1000)\n",
    "\n",
    "fun= np.sin(np.pi/2 * m)**2\n",
    "x = np.arange(0.01,0.99,0.001)\n",
    "f_x = 1/(np.pi*np.sqrt(x)*np.sqrt(1-x))\n",
    "\n",
    "\n",
    "plt.figure(figsize=(6,5))\n",
    "plt.plot(x, f_x, color = 'y', label = 'f(x)')\n",
    "plt.hist(fun, 40, density = True,)\n",
    "plt.legend()\n",
    "plt.show()"
   ]
  },
  {
   "cell_type": "code",
   "execution_count": 4,
   "id": "25fe0671",
   "metadata": {},
   "outputs": [],
   "source": [
    "#respuesta 2\n",
    "def Gen_distr_discreta(p_acum: 'P.Acumulada de la distribución a generar',\n",
    "                       indices: 'valores reales a generar aleatoriamente',\n",
    "                       N: 'cantidad de números aleatorios a generar'):\n",
    "    \n",
    "    U =np.random.rand(N)\n",
    "    rand2reales = {i: idx for i, idx in enumerate(indices)}\n",
    "    y = pd.Series([sum([1 for p in p_acum if p < ui]) for ui in U]).map(rand2reales)\n",
    "\n",
    "    return y\n",
    "\n",
    "def plot_histogram_discrete(distribucion:'señal de varibles aleatorias de un distribución DISCRETA dada',\n",
    "                            label:'label del legend a aparecer en el gráfica',\n",
    "                            densidad:'por defecto regresa el histograma en densidad'=True):\n",
    "    \n",
    "    \n",
    "    plt.figure(figsize=[6,4])\n",
    "    y,x = np.histogram(distribucion,bins = len(set(distribucion)),density = densidad) \n",
    "    plt.bar(x[1:],y,label=label)\n",
    "    plt.legend()\n",
    "    plt.show()\n",
    "    \n",
    "def P_acum_binomial(n,p):\n",
    "    Pr = np.zeros(n)\n",
    "    Pr[0] = (1-p)**n\n",
    "    def pr(i):\n",
    "        nonlocal Pr\n",
    "        c  = p/(1-p)\n",
    "        Pr[i+1]=(c*(n-i)/(i+1))*Pr[i]\n",
    "\n",
    "    [pr(i) for i in range(n-1)]\n",
    "    return np.cumsum(Pr)\n",
    "\n",
    "n = 10; p = 0.7; N = 10000\n",
    "p_acum = P_acum_binomial(n,p)\n",
    "u = np.random.rand(N)\n",
    "\n",
    "d_binomial = Gen_distr_discreta(p_acum, np.arange(0, n+1), N)\n"
   ]
  },
  {
   "cell_type": "code",
   "execution_count": 6,
   "id": "d51f18f7",
   "metadata": {},
   "outputs": [
    {
     "data": {
      "image/png": "[encoded data removed]",
      "text/plain": [
       "<Figure size 432x288 with 1 Axes>"
      ]
     },
     "metadata": {
      "needs_background": "light"
     },
     "output_type": "display_data"
    }
   ],
   "source": [
    "plot_histogram_discrete(d_binomial, ' la función')\n"
   ]
  }
 ],
 "metadata": {
  "kernelspec": {
   "display_name": "Python 3",
   "language": "python",
   "name": "python3"
  },
  "language_info": {
   "codemirror_mode": {
    "name": "ipython",
    "version": 3
   },
   "file_extension": ".py",
   "mimetype": "text/x-python",
   "name": "python",
   "nbconvert_exporter": "python",
   "pygments_lexer": "ipython3",
   "version": "3.8.8"
  }
 },
 "nbformat": 4,
 "nbformat_minor": 5
}
